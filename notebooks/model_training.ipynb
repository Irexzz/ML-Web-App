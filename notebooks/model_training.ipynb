{
 "cells": [
  {
   "cell_type": "code",
   "execution_count": 5,
   "id": "b348e6c0",
   "metadata": {},
   "outputs": [
    {
     "data": {
      "text/html": [
       "<div>\n",
       "<style scoped>\n",
       "    .dataframe tbody tr th:only-of-type {\n",
       "        vertical-align: middle;\n",
       "    }\n",
       "\n",
       "    .dataframe tbody tr th {\n",
       "        vertical-align: top;\n",
       "    }\n",
       "\n",
       "    .dataframe thead th {\n",
       "        text-align: right;\n",
       "    }\n",
       "</style>\n",
       "<table border=\"1\" class=\"dataframe\">\n",
       "  <thead>\n",
       "    <tr style=\"text-align: right;\">\n",
       "      <th></th>\n",
       "      <th>model</th>\n",
       "      <th>year</th>\n",
       "      <th>price</th>\n",
       "      <th>transmission</th>\n",
       "      <th>mileage</th>\n",
       "      <th>fuelType</th>\n",
       "      <th>tax</th>\n",
       "      <th>mpg</th>\n",
       "      <th>engineSize</th>\n",
       "    </tr>\n",
       "  </thead>\n",
       "  <tbody>\n",
       "    <tr>\n",
       "      <th>0</th>\n",
       "      <td>A1</td>\n",
       "      <td>2017</td>\n",
       "      <td>12500</td>\n",
       "      <td>Manual</td>\n",
       "      <td>15735</td>\n",
       "      <td>Petrol</td>\n",
       "      <td>150</td>\n",
       "      <td>55.4</td>\n",
       "      <td>1.4</td>\n",
       "    </tr>\n",
       "    <tr>\n",
       "      <th>1</th>\n",
       "      <td>A6</td>\n",
       "      <td>2016</td>\n",
       "      <td>16500</td>\n",
       "      <td>Automatic</td>\n",
       "      <td>36203</td>\n",
       "      <td>Diesel</td>\n",
       "      <td>20</td>\n",
       "      <td>64.2</td>\n",
       "      <td>2.0</td>\n",
       "    </tr>\n",
       "    <tr>\n",
       "      <th>2</th>\n",
       "      <td>A1</td>\n",
       "      <td>2016</td>\n",
       "      <td>11000</td>\n",
       "      <td>Manual</td>\n",
       "      <td>29946</td>\n",
       "      <td>Petrol</td>\n",
       "      <td>30</td>\n",
       "      <td>55.4</td>\n",
       "      <td>1.4</td>\n",
       "    </tr>\n",
       "    <tr>\n",
       "      <th>3</th>\n",
       "      <td>A4</td>\n",
       "      <td>2017</td>\n",
       "      <td>16800</td>\n",
       "      <td>Automatic</td>\n",
       "      <td>25952</td>\n",
       "      <td>Diesel</td>\n",
       "      <td>145</td>\n",
       "      <td>67.3</td>\n",
       "      <td>2.0</td>\n",
       "    </tr>\n",
       "    <tr>\n",
       "      <th>4</th>\n",
       "      <td>A3</td>\n",
       "      <td>2019</td>\n",
       "      <td>17300</td>\n",
       "      <td>Manual</td>\n",
       "      <td>1998</td>\n",
       "      <td>Petrol</td>\n",
       "      <td>145</td>\n",
       "      <td>49.6</td>\n",
       "      <td>1.0</td>\n",
       "    </tr>\n",
       "    <tr>\n",
       "      <th>...</th>\n",
       "      <td>...</td>\n",
       "      <td>...</td>\n",
       "      <td>...</td>\n",
       "      <td>...</td>\n",
       "      <td>...</td>\n",
       "      <td>...</td>\n",
       "      <td>...</td>\n",
       "      <td>...</td>\n",
       "      <td>...</td>\n",
       "    </tr>\n",
       "    <tr>\n",
       "      <th>10663</th>\n",
       "      <td>A3</td>\n",
       "      <td>2020</td>\n",
       "      <td>16999</td>\n",
       "      <td>Manual</td>\n",
       "      <td>4018</td>\n",
       "      <td>Petrol</td>\n",
       "      <td>145</td>\n",
       "      <td>49.6</td>\n",
       "      <td>1.0</td>\n",
       "    </tr>\n",
       "    <tr>\n",
       "      <th>10664</th>\n",
       "      <td>A3</td>\n",
       "      <td>2020</td>\n",
       "      <td>16999</td>\n",
       "      <td>Manual</td>\n",
       "      <td>1978</td>\n",
       "      <td>Petrol</td>\n",
       "      <td>150</td>\n",
       "      <td>49.6</td>\n",
       "      <td>1.0</td>\n",
       "    </tr>\n",
       "    <tr>\n",
       "      <th>10665</th>\n",
       "      <td>A3</td>\n",
       "      <td>2020</td>\n",
       "      <td>17199</td>\n",
       "      <td>Manual</td>\n",
       "      <td>609</td>\n",
       "      <td>Petrol</td>\n",
       "      <td>150</td>\n",
       "      <td>49.6</td>\n",
       "      <td>1.0</td>\n",
       "    </tr>\n",
       "    <tr>\n",
       "      <th>10666</th>\n",
       "      <td>Q3</td>\n",
       "      <td>2017</td>\n",
       "      <td>19499</td>\n",
       "      <td>Automatic</td>\n",
       "      <td>8646</td>\n",
       "      <td>Petrol</td>\n",
       "      <td>150</td>\n",
       "      <td>47.9</td>\n",
       "      <td>1.4</td>\n",
       "    </tr>\n",
       "    <tr>\n",
       "      <th>10667</th>\n",
       "      <td>Q3</td>\n",
       "      <td>2016</td>\n",
       "      <td>15999</td>\n",
       "      <td>Manual</td>\n",
       "      <td>11855</td>\n",
       "      <td>Petrol</td>\n",
       "      <td>150</td>\n",
       "      <td>47.9</td>\n",
       "      <td>1.4</td>\n",
       "    </tr>\n",
       "  </tbody>\n",
       "</table>\n",
       "<p>10668 rows × 9 columns</p>\n",
       "</div>"
      ],
      "text/plain": [
       "      model  year  price transmission  mileage fuelType  tax   mpg  engineSize\n",
       "0        A1  2017  12500       Manual    15735   Petrol  150  55.4         1.4\n",
       "1        A6  2016  16500    Automatic    36203   Diesel   20  64.2         2.0\n",
       "2        A1  2016  11000       Manual    29946   Petrol   30  55.4         1.4\n",
       "3        A4  2017  16800    Automatic    25952   Diesel  145  67.3         2.0\n",
       "4        A3  2019  17300       Manual     1998   Petrol  145  49.6         1.0\n",
       "...     ...   ...    ...          ...      ...      ...  ...   ...         ...\n",
       "10663    A3  2020  16999       Manual     4018   Petrol  145  49.6         1.0\n",
       "10664    A3  2020  16999       Manual     1978   Petrol  150  49.6         1.0\n",
       "10665    A3  2020  17199       Manual      609   Petrol  150  49.6         1.0\n",
       "10666    Q3  2017  19499    Automatic     8646   Petrol  150  47.9         1.4\n",
       "10667    Q3  2016  15999       Manual    11855   Petrol  150  47.9         1.4\n",
       "\n",
       "[10668 rows x 9 columns]"
      ]
     },
     "execution_count": 5,
     "metadata": {},
     "output_type": "execute_result"
    }
   ],
   "source": [
    "# Import\n",
    "import numpy as np\n",
    "import pandas as pd\n",
    "import matplotlib.pyplot as plt\n",
    "#import seaborn as sns\n",
    "import scipy.stats as stats\n",
    "from sklearn.preprocessing import StandardScaler\n",
    "from sklearn.neighbors import KNeighborsClassifier\n",
    "from sklearn.ensemble import RandomForestClassifier\n",
    "from sklearn.metrics import mean_squared_error, r2_score\n",
    "from sklearn.model_selection import GridSearchCV\n",
    "from sklearn.metrics import r2_score\n",
    "from sklearn.model_selection import KFold, cross_val_score\n",
    "from sklearn.linear_model import LinearRegression, Ridge, Lasso, BayesianRidge\n",
    "from sklearn.tree import DecisionTreeRegressor\n",
    "from sklearn.ensemble import RandomForestRegressor, GradientBoostingRegressor\n",
    "from sklearn.linear_model import LinearRegression, Ridge, Lasso, BayesianRidge, ElasticNet\n",
    "from sklearn.metrics import explained_variance_score, r2_score, mean_squared_error\n",
    "from sklearn.preprocessing import LabelEncoder\n",
    "from sklearn.model_selection import train_test_split\n",
    "from sklearn.feature_selection import mutual_info_classif\n",
    "\n",
    "# Read Data\n",
    "audi = pd.read_csv(\"audi.csv\")\n",
    "audi"
   ]
  },
  {
   "cell_type": "code",
   "execution_count": 6,
   "id": "d15b148b",
   "metadata": {},
   "outputs": [
    {
     "data": {
      "text/plain": [
       "{0: ' A1',\n",
       " 1: ' A2',\n",
       " 2: ' A3',\n",
       " 3: ' A4',\n",
       " 4: ' A5',\n",
       " 5: ' A6',\n",
       " 6: ' A7',\n",
       " 7: ' A8',\n",
       " 8: ' Q2',\n",
       " 9: ' Q3',\n",
       " 10: ' Q5',\n",
       " 11: ' Q7',\n",
       " 12: ' Q8',\n",
       " 13: ' R8',\n",
       " 14: ' RS3',\n",
       " 15: ' RS4',\n",
       " 16: ' RS5',\n",
       " 17: ' RS6',\n",
       " 18: ' RS7',\n",
       " 19: ' S3',\n",
       " 20: ' S4',\n",
       " 21: ' S5',\n",
       " 22: ' S8',\n",
       " 23: ' SQ5',\n",
       " 24: ' SQ7',\n",
       " 25: ' TT'}"
      ]
     },
     "execution_count": 6,
     "metadata": {},
     "output_type": "execute_result"
    }
   ],
   "source": [
    "encoder = LabelEncoder()\n",
    "audi['model'] = encoder.fit_transform(audi['model'])\n",
    "model_mapping = {index : label for index, label in enumerate(encoder.classes_)}\n",
    "model_mapping\n"
   ]
  },
  {
   "cell_type": "code",
   "execution_count": 7,
   "id": "0066d00e",
   "metadata": {},
   "outputs": [
    {
     "data": {
      "text/plain": [
       "{0: 'Automatic', 1: 'Manual', 2: 'Semi-Auto'}"
      ]
     },
     "execution_count": 7,
     "metadata": {},
     "output_type": "execute_result"
    }
   ],
   "source": [
    "audi['transmission'] = encoder.fit_transform(audi['transmission'])\n",
    "transmission_mapping = {index : label for index, label in enumerate(encoder.classes_)}\n",
    "transmission_mapping"
   ]
  },
  {
   "cell_type": "code",
   "execution_count": 8,
   "id": "f0d00ead",
   "metadata": {},
   "outputs": [
    {
     "data": {
      "text/plain": [
       "{0: 'Diesel', 1: 'Hybrid', 2: 'Petrol'}"
      ]
     },
     "execution_count": 8,
     "metadata": {},
     "output_type": "execute_result"
    }
   ],
   "source": [
    "audi['fuelType'] = encoder.fit_transform(audi['fuelType'])\n",
    "fuelType_mapping = {index : label for index, label in enumerate(encoder.classes_)}\n",
    "fuelType_mapping"
   ]
  },
  {
   "cell_type": "code",
   "execution_count": 9,
   "id": "8729bb72",
   "metadata": {},
   "outputs": [],
   "source": [
    "X = audi.drop('price', axis=1)\n",
    "y = audi['price']"
   ]
  },
  {
   "cell_type": "code",
   "execution_count": 10,
   "id": "285af18a",
   "metadata": {},
   "outputs": [],
   "source": [
    "x_train,x_test,y_train,y_test=train_test_split(X,y,test_size=30,random_state=0)"
   ]
  },
  {
   "cell_type": "code",
   "execution_count": 11,
   "id": "5e47da2f",
   "metadata": {},
   "outputs": [
    {
     "name": "stdout",
     "output_type": "stream",
     "text": [
      "Model: OLS\n",
      "Explained Variance Score: 0.5996838219623882\n",
      "R^2 Score: 0.5968641922659105\n",
      "RMSE: 5651.595277608177\n",
      "\n",
      "Model: Ridge\n",
      "Explained Variance Score: 0.5999421885738201\n",
      "R^2 Score: 0.5971348089999575\n",
      "RMSE: 5649.698059624313\n",
      "\n",
      "Model: Lasso\n",
      "Explained Variance Score: 0.5999657460108935\n",
      "R^2 Score: 0.5971582999066681\n",
      "RMSE: 5649.533341416157\n",
      "\n",
      "Model: Elastic Net\n",
      "Explained Variance Score: 0.7898455020313055\n",
      "R^2 Score: 0.7742576387237083\n",
      "RMSE: 4229.138398881654\n",
      "\n"
     ]
    },
    {
     "name": "stdout",
     "output_type": "stream",
     "text": [
      "Model: RF\n",
      "Explained Variance Score: 0.9810591083250477\n",
      "R^2 Score: 0.9763503912100681\n",
      "RMSE: 1368.8546843322106\n",
      "\n"
     ]
    }
   ],
   "source": [
    "models = {\n",
    "    'OLS': LinearRegression(),\n",
    "    'Ridge': Ridge(),\n",
    "    'Lasso': Lasso(),\n",
    "    'Elastic Net': ElasticNet(),\n",
    "    'RF':RandomForestRegressor()\n",
    "    \n",
    "}\n",
    "\n",
    "for name, model in models.items():\n",
    "    model.fit(x_train, y_train)\n",
    "    y_pred = model.predict(x_test)\n",
    "    \n",
    "    evs = explained_variance_score(y_test, y_pred)\n",
    "    r2 = r2_score(y_test, y_pred)\n",
    "    rmse = mean_squared_error(y_test, y_pred, squared=False)\n",
    "    \n",
    "    print(\"Model:\", name)\n",
    "    print(\"Explained Variance Score:\", evs)\n",
    "    print(\"R^2 Score:\", r2)\n",
    "    print(\"RMSE:\", rmse)\n",
    "    print()\n"
   ]
  },
  {
   "cell_type": "code",
   "execution_count": 12,
   "id": "7265a481",
   "metadata": {},
   "outputs": [
    {
     "data": {
      "text/plain": [
       "<Axes: >"
      ]
     },
     "execution_count": 12,
     "metadata": {},
     "output_type": "execute_result"
    },
    {
     "data": {
      "image/png": "[encoded data removed]",
      "text/plain": [
       "<Figure size 1500x500 with 1 Axes>"
      ]
     },
     "metadata": {},
     "output_type": "display_data"
    }
   ],
   "source": [
    "# Feature Selection\n",
    "from sklearn.model_selection import train_test_split\n",
    "#X_train,X_test,y_train,y_test=train_test_split(X,y,\n",
    " #   test_size=0.2,\n",
    " #   random_state=0)\n",
    "from sklearn.feature_selection import mutual_info_regression, SelectPercentile\n",
    "mutual_info = mutual_info_regression(x_train, y_train)\n",
    "mutual_info\n",
    "mutual_info = pd.Series(mutual_info)\n",
    "\n",
    "x_train = pd.DataFrame(x_train)\n",
    "mutual_info.index = x_train.columns\n",
    "mutual_info.sort_values(ascending=False)\n",
    "mutual_info.sort_values(ascending=False).plot.bar(figsize=(15,5))\n"
   ]
  },
  {
   "cell_type": "code",
   "execution_count": 14,
   "id": "7704895f",
   "metadata": {},
   "outputs": [],
   "source": [
    "X1 = X.iloc[:, np.argsort(mutual_info)[2:]]"
   ]
  },
  {
   "cell_type": "code",
   "execution_count": 24,
   "id": "e11c7ad4",
   "metadata": {},
   "outputs": [
    {
     "name": "stdout",
     "output_type": "stream",
     "text": [
      "Minimum values:\n",
      "tax              0.0\n",
      "engineSize       0.0\n",
      "mileage          1.0\n",
      "year          1997.0\n",
      "mpg             18.9\n",
      "dtype: float64\n",
      "\n",
      "Maximum values:\n",
      "tax              580.0\n",
      "engineSize         6.3\n",
      "mileage       323000.0\n",
      "year            2020.0\n",
      "mpg              188.3\n",
      "dtype: float64\n"
     ]
    }
   ],
   "source": [
    "columns_to_check = ['tax', 'engineSize', 'mileage', 'year', 'mpg']\n",
    "\n",
    "# Find min and max for each column\n",
    "min_values = X1[columns_to_check].min()\n",
    "max_values = X1[columns_to_check].max()\n",
    "\n",
    "# Display the results\n",
    "print(\"Minimum values:\")\n",
    "print(min_values)\n",
    "\n",
    "print(\"\\nMaximum values:\")\n",
    "print(max_values)"
   ]
  },
  {
   "cell_type": "code",
   "execution_count": 16,
   "id": "d63fe75c",
   "metadata": {},
   "outputs": [],
   "source": [
    "x_train,x_test,y_train,y_test=train_test_split(X1,y,test_size=30,random_state=0)"
   ]
  },
  {
   "cell_type": "code",
   "execution_count": 17,
   "id": "86ef6227",
   "metadata": {},
   "outputs": [
    {
     "name": "stdout",
     "output_type": "stream",
     "text": [
      "Model: OLS\n",
      "Explained Variance Score: 0.6104022564653511\n",
      "R^2 Score: 0.6079448823495279\n",
      "RMSE: 5573.383526317822\n",
      "\n",
      "Model: Ridge\n",
      "Explained Variance Score: 0.6106093643687307\n",
      "R^2 Score: 0.6081617727152309\n",
      "RMSE: 5571.841676248608\n",
      "\n",
      "Model: Lasso\n",
      "Explained Variance Score: 0.6106048739241188\n",
      "R^2 Score: 0.608156945661881\n",
      "RMSE: 5571.875995889118\n",
      "\n",
      "Model: Elastic Net\n",
      "Explained Variance Score: 0.7886912020350999\n",
      "R^2 Score: 0.7710398098683418\n",
      "RMSE: 4259.173723712406\n",
      "\n",
      "Model: RF\n",
      "Explained Variance Score: 0.9802464906302712\n",
      "R^2 Score: 0.9784316716499935\n",
      "RMSE: 1307.2348255037857\n",
      "\n"
     ]
    }
   ],
   "source": [
    "models = {\n",
    "    'OLS': LinearRegression(),\n",
    "    'Ridge': Ridge(),\n",
    "    'Lasso': Lasso(),\n",
    "    'Elastic Net': ElasticNet(),\n",
    "    'RF':RandomForestRegressor()\n",
    "    \n",
    "}\n",
    "\n",
    "for name, model in models.items():\n",
    "    model.fit(x_train, y_train)\n",
    "    y_pred = model.predict(x_test)\n",
    "    \n",
    "    evs = explained_variance_score(y_test, y_pred)\n",
    "    r2 = r2_score(y_test, y_pred)\n",
    "    rmse = mean_squared_error(y_test, y_pred, squared=False)\n",
    "    \n",
    "    print(\"Model:\", name)\n",
    "    print(\"Explained Variance Score:\", evs)\n",
    "    print(\"R^2 Score:\", r2)\n",
    "    print(\"RMSE:\", rmse)\n",
    "    print()\n"
   ]
  },
  {
   "cell_type": "code",
   "execution_count": 21,
   "id": "e42bd1d3",
   "metadata": {},
   "outputs": [
    {
     "name": "stdout",
     "output_type": "stream",
     "text": [
      "Predictions from baseline model: [13658.24 23093.54]\n",
      "Actual: 2049    14998\n",
      "5609    21950\n",
      "Name: price, dtype: int64\n"
     ]
    }
   ],
   "source": [
    "#Print predictions and actual values\n",
    "y_pred = model.predict(x_test)\n",
    "#y_pred_t = ridge_t.predict(X_test_scaled)\n",
    "print(\"Predictions from baseline model:\",y_pred[:2])\n",
    "#print(\"Predictions from tuned model:\",y_pred_t[:2])\n",
    "print(\"Actual:\",y_test[:2])\n",
    "\n",
    "# An example of my prediction task\n",
    "# My predictions and the actuaal values were quite close\n",
    "# $2500 and $20000 difference\n",
    "# And baseline model values were further\n",
    "# Thus, i think my model did a decent job in predicting "
   ]
  },
  {
   "cell_type": "code",
   "execution_count": 22,
   "id": "2e5b5a8d",
   "metadata": {},
   "outputs": [
    {
     "name": "stdout",
     "output_type": "stream",
     "text": [
      "R-squared (Train): 0.9933023267058597\n",
      "R-squared (Test): 0.9784316716499935\n"
     ]
    }
   ],
   "source": [
    "y_train_pred = model.predict(x_train)\n",
    "\n",
    "r2_train = r2_score(y_train, y_train_pred)\n",
    "\n",
    "y_test_pred = model.predict(x_test)\n",
    "\n",
    "r2_test = r2_score(y_test, y_test_pred)\n",
    "\n",
    "print(\"R-squared (Train):\", r2_train)\n",
    "print(\"R-squared (Test):\", r2_test)"
   ]
  },
  {
   "cell_type": "code",
   "execution_count": 23,
   "id": "ab58993f",
   "metadata": {},
   "outputs": [],
   "source": [
    "model = RandomForestRegressor()\n",
    "model.fit(x_train, y_train)\n",
    "# Score the model\n",
    "expected = y_test\n",
    "predicted = model.predict(x_test)\n",
    "import pickle\n",
    "with open('../application/static/joblib_Model.pkl', 'wb') as f:\n",
    "    pickle.dump(model, f)"
   ]
  },
  {
   "cell_type": "code",
   "execution_count": null,
   "id": "f29a96e4",
   "metadata": {},
   "outputs": [
    {
     "name": "stdout",
     "output_type": "stream",
     "text": [
      "Collecting matplotlib\n",
      "  Obtaining dependency information for matplotlib from https://files.pythonhosted.org/packages/2e/51/c77a14869b7eb9d6fb440e811b754fc3950d6868c38ace57d0632b674415/matplotlib-3.8.2-cp312-cp312-win_amd64.whl.metadata\n",
      "  Downloading matplotlib-3.8.2-cp312-cp312-win_amd64.whl.metadata (5.9 kB)\n",
      "Collecting contourpy>=1.0.1 (from matplotlib)\n",
      "  Obtaining dependency information for contourpy>=1.0.1 from https://files.pythonhosted.org/packages/8e/ae/a6353db548bff1a592b85ae6bb80275f0a51dc25a0410d059e5b33183e36/contourpy-1.2.0-cp312-cp312-win_amd64.whl.metadata\n",
      "  Downloading contourpy-1.2.0-cp312-cp312-win_amd64.whl.metadata (5.8 kB)\n",
      "Collecting cycler>=0.10 (from matplotlib)\n",
      "  Obtaining dependency information for cycler>=0.10 from https://files.pythonhosted.org/packages/e7/05/c19819d5e3d95294a6f5947fb9b9629efb316b96de511b418c53d245aae6/cycler-0.12.1-py3-none-any.whl.metadata\n",
      "  Downloading cycler-0.12.1-py3-none-any.whl.metadata (3.8 kB)\n",
      "Collecting fonttools>=4.22.0 (from matplotlib)\n",
      "  Obtaining dependency information for fonttools>=4.22.0 from https://files.pythonhosted.org/packages/ea/1e/a944a93c33e5cf495b0eb0c5e7e81f707c6b4d0dc5e54fb38ad2734da762/fonttools-4.46.0-cp312-cp312-win_amd64.whl.metadata\n",
      "  Downloading fonttools-4.46.0-cp312-cp312-win_amd64.whl.metadata (159 kB)\n",
      "     ---------------------------------------- 0.0/159.4 kB ? eta -:--:--\n",
      "     -- ------------------------------------- 10.2/159.4 kB ? eta -:--:--\n",
      "     ------------------------------------ - 153.6/159.4 kB 1.8 MB/s eta 0:00:01\n",
      "     -------------------------------------- 159.4/159.4 kB 1.6 MB/s eta 0:00:00\n",
      "Collecting kiwisolver>=1.3.1 (from matplotlib)\n",
      "  Obtaining dependency information for kiwisolver>=1.3.1 from https://files.pythonhosted.org/packages/63/50/2746566bdf4a6a842d117367d05c90cfb87ac04e9e2845aa1fa21f071362/kiwisolver-1.4.5-cp312-cp312-win_amd64.whl.metadata\n",
      "  Downloading kiwisolver-1.4.5-cp312-cp312-win_amd64.whl.metadata (6.5 kB)\n",
      "Requirement already satisfied: numpy<2,>=1.21 in c:\\users\\aiman\\doaa\\ca1-daaa2b02-2110318-aiman\\env\\lib\\site-packages (from matplotlib) (1.26.2)\n",
      "Requirement already satisfied: packaging>=20.0 in c:\\users\\aiman\\doaa\\ca1-daaa2b02-2110318-aiman\\env\\lib\\site-packages (from matplotlib) (23.2)\n",
      "Collecting pillow>=8 (from matplotlib)\n",
      "  Obtaining dependency information for pillow>=8 from https://files.pythonhosted.org/packages/32/e4/978865107d097dd9cb650331676d8dc29ed9fcd0aaab46486e9d6e5123f0/Pillow-10.1.0-cp312-cp312-win_amd64.whl.metadata\n",
      "  Downloading Pillow-10.1.0-cp312-cp312-win_amd64.whl.metadata (9.6 kB)\n",
      "Collecting pyparsing>=2.3.1 (from matplotlib)\n",
      "  Obtaining dependency information for pyparsing>=2.3.1 from https://files.pythonhosted.org/packages/39/92/8486ede85fcc088f1b3dba4ce92dd29d126fd96b0008ea213167940a2475/pyparsing-3.1.1-py3-none-any.whl.metadata\n",
      "  Downloading pyparsing-3.1.1-py3-none-any.whl.metadata (5.1 kB)\n",
      "Requirement already satisfied: python-dateutil>=2.7 in c:\\users\\aiman\\doaa\\ca1-daaa2b02-2110318-aiman\\env\\lib\\site-packages (from matplotlib) (2.8.2)\n",
      "Requirement already satisfied: six>=1.5 in c:\\users\\aiman\\doaa\\ca1-daaa2b02-2110318-aiman\\env\\lib\\site-packages (from python-dateutil>=2.7->matplotlib) (1.16.0)\n",
      "Downloading matplotlib-3.8.2-cp312-cp312-win_amd64.whl (7.6 MB)\n",
      "   ---------------------------------------- 0.0/7.6 MB ? eta -:--:--\n",
      "   -- ------------------------------------- 0.4/7.6 MB 12.6 MB/s eta 0:00:01\n",
      "   ---- ----------------------------------- 0.9/7.6 MB 11.0 MB/s eta 0:00:01\n",
      "   ------- -------------------------------- 1.4/7.6 MB 11.2 MB/s eta 0:00:01\n",
      "   ---------- ----------------------------- 1.9/7.6 MB 11.3 MB/s eta 0:00:01\n",
      "   ------------ --------------------------- 2.4/7.6 MB 10.8 MB/s eta 0:00:01\n",
      "   --------------- ------------------------ 2.9/7.6 MB 11.1 MB/s eta 0:00:01\n",
      "   ----------------- ---------------------- 3.4/7.6 MB 11.0 MB/s eta 0:00:01\n",
      "   ------------------ --------------------- 3.6/7.6 MB 9.9 MB/s eta 0:00:01\n",
      "   ----------------------- ---------------- 4.4/7.6 MB 10.9 MB/s eta 0:00:01\n",
      "   ------------------------- -------------- 4.8/7.6 MB 10.9 MB/s eta 0:00:01\n",
      "   ------------------------- -------------- 4.8/7.6 MB 10.9 MB/s eta 0:00:01\n",
      "   --------------------------- ------------ 5.3/7.6 MB 9.6 MB/s eta 0:00:01\n",
      "   ----------------------------- ---------- 5.6/7.6 MB 9.4 MB/s eta 0:00:01\n",
      "   ------------------------------ --------- 5.9/7.6 MB 9.1 MB/s eta 0:00:01\n",
      "   -------------------------------- ------- 6.2/7.6 MB 9.0 MB/s eta 0:00:01\n",
      "   ---------------------------------- ----- 6.7/7.6 MB 9.1 MB/s eta 0:00:01\n",
      "   ----------------------------------- ---- 6.8/7.6 MB 9.1 MB/s eta 0:00:01\n",
      "   ---------------------------------------  7.5/7.6 MB 9.0 MB/s eta 0:00:01\n",
      "   ---------------------------------------  7.6/7.6 MB 9.0 MB/s eta 0:00:01\n",
      "   ---------------------------------------- 7.6/7.6 MB 8.6 MB/s eta 0:00:00\n",
      "Downloading contourpy-1.2.0-cp312-cp312-win_amd64.whl (187 kB)\n",
      "   ---------------------------------------- 0.0/187.7 kB ? eta -:--:--\n",
      "   ---------------------------------------- 187.7/187.7 kB 5.5 MB/s eta 0:00:00\n",
      "Downloading cycler-0.12.1-py3-none-any.whl (8.3 kB)\n",
      "Downloading fonttools-4.46.0-cp312-cp312-win_amd64.whl (2.2 MB)\n",
      "   ---------------------------------------- 0.0/2.2 MB ? eta -:--:--\n",
      "   -------- ------------------------------- 0.5/2.2 MB 9.4 MB/s eta 0:00:01\n",
      "   ----------------- ---------------------- 1.0/2.2 MB 10.2 MB/s eta 0:00:01\n",
      "   ---------------------------- ----------- 1.5/2.2 MB 10.7 MB/s eta 0:00:01\n",
      "   --------------------------------- ------ 1.8/2.2 MB 9.6 MB/s eta 0:00:01\n",
      "   ---------------------------------------  2.2/2.2 MB 9.8 MB/s eta 0:00:01\n",
      "   ---------------------------------------- 2.2/2.2 MB 9.2 MB/s eta 0:00:00\n",
      "Downloading kiwisolver-1.4.5-cp312-cp312-win_amd64.whl (56 kB)\n",
      "   ---------------------------------------- 0.0/56.0 kB ? eta -:--:--\n",
      "   ---------------------------------------- 56.0/56.0 kB 2.9 MB/s eta 0:00:00\n",
      "Downloading Pillow-10.1.0-cp312-cp312-win_amd64.whl (2.6 MB)\n",
      "   ---------------------------------------- 0.0/2.6 MB ? eta -:--:--\n",
      "   -------- ------------------------------- 0.5/2.6 MB 10.9 MB/s eta 0:00:01\n",
      "   -------------- ------------------------- 0.9/2.6 MB 11.9 MB/s eta 0:00:01\n",
      "   ------------------- -------------------- 1.3/2.6 MB 10.2 MB/s eta 0:00:01\n",
      "   -------------------------- ------------- 1.7/2.6 MB 9.2 MB/s eta 0:00:01\n",
      "   ------------------------------- -------- 2.1/2.6 MB 8.8 MB/s eta 0:00:01\n",
      "   ---------------------------------- ----- 2.2/2.6 MB 8.4 MB/s eta 0:00:01\n",
      "   ---------------------------------------  2.6/2.6 MB 8.7 MB/s eta 0:00:01\n",
      "   ---------------------------------------- 2.6/2.6 MB 7.9 MB/s eta 0:00:00\n",
      "Downloading pyparsing-3.1.1-py3-none-any.whl (103 kB)\n",
      "   ---------------------------------------- 0.0/103.1 kB ? eta -:--:--\n",
      "   ---------------------------------------- 103.1/103.1 kB 5.8 MB/s eta 0:00:00\n",
      "Installing collected packages: pyparsing, pillow, kiwisolver, fonttools, cycler, contourpy, matplotlib\n",
      "Successfully installed contourpy-1.2.0 cycler-0.12.1 fonttools-4.46.0 kiwisolver-1.4.5 matplotlib-3.8.2 pillow-10.1.0 pyparsing-3.1.1\n",
      "Note: you may need to restart the kernel to use updated packages.\n"
     ]
    },
    {
     "name": "stderr",
     "output_type": "stream",
     "text": [
      "\n",
      "[notice] A new release of pip is available: 23.2.1 -> 23.3.1\n",
      "[notice] To update, run: python.exe -m pip install --upgrade pip\n"
     ]
    }
   ],
   "source": [
    "\n"
   ]
  }
 ],
 "metadata": {
  "kernelspec": {
   "display_name": "Python 3 (ipykernel)",
   "language": "python",
   "name": "python3"
  },
  "language_info": {
   "codemirror_mode": {
    "name": "ipython",
    "version": 3
   },
   "file_extension": ".py",
   "mimetype": "text/x-python",
   "name": "python",
   "nbconvert_exporter": "python",
   "pygments_lexer": "ipython3",
   "version": "3.12.0"
  }
 },
 "nbformat": 4,
 "nbformat_minor": 5
}
